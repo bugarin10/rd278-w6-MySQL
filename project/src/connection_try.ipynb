{
 "cells": [
  {
   "cell_type": "code",
   "execution_count": 5,
   "metadata": {},
   "outputs": [],
   "source": [
    "import mysql.connector\n",
    "import credentials"
   ]
  },
  {
   "cell_type": "code",
   "execution_count": 2,
   "metadata": {},
   "outputs": [],
   "source": [
    "try:\n",
    "    cnx = mysql.connector.connect(\n",
    "        user=\"myadmin\",\n",
    "        password=credentials.password,\n",
    "        host=\"mysqlserverrd278.mysql.database.azure.com\",\n",
    "        port=3306,\n",
    "        database=\"vet_schema\",\n",
    "    )\n",
    "except mysql.connector.Error as err:\n",
    "    print(err)"
   ]
  },
  {
   "cell_type": "code",
   "execution_count": 3,
   "metadata": {},
   "outputs": [
    {
     "name": "stdout",
     "output_type": "stream",
     "text": [
      "('J6-8562', 'Blackie')\n",
      "('Q0-2001', 'Roomba')\n",
      "('M0-2904', 'Simba')\n",
      "('R3-7551', 'Keller')\n",
      "('P2-7342', 'Cuddles')\n"
     ]
    }
   ],
   "source": [
    "#  modules, and the code to make a query to the database, in azure sql server\n",
    "#  and the code to make a query to the database, in azure sql server\n",
    "# considering the next code:\n",
    "\n",
    "\n",
    "cnx = mysql.connector.connect(\n",
    "    user=\"myadmin\",\n",
    "    password=credentials.password,\n",
    "    host=\"mysqlserverrd278.mysql.database.azure.com\",\n",
    "    port=3306,\n",
    "    database=\"vet_schema\",\n",
    ")\n",
    "\n",
    "cursor = cnx.cursor()\n",
    "\n",
    "query = \"SELECT PetID, Name FROM vet_schema.Pets limit 5\"\n",
    "\n",
    "cursor.execute(query)\n",
    "\n",
    "\n",
    "results = cursor.fetchall()\n",
    "\n",
    "for row in results:\n",
    "    print(row)\n",
    "\n",
    "cursor.close()\n",
    "cnx.close()"
   ]
  },
  {
   "cell_type": "code",
   "execution_count": null,
   "metadata": {},
   "outputs": [],
   "source": [
    "def doing_query(query_by_user):\n",
    "    try:\n",
    "        cnx = mysql.connector.connect(\n",
    "            user=\"myadmin\",\n",
    "            password=credentials.password,\n",
    "            host=\"mysqlserverrd278.mysql.database.azure.com\",\n",
    "            port=3306,\n",
    "            database=\"vet_schema\",\n",
    "        )\n",
    "\n",
    "        cursor = cnx.cursor()\n",
    "\n",
    "        cursor.execute(query_by_user)\n",
    "\n",
    "        results = cursor.fetchall()\n",
    "\n",
    "        for row in results:\n",
    "            print(row)\n",
    "\n",
    "        cursor.close()\n",
    "        cnx.close()\n",
    "        return results\n",
    "    except:\n",
    "        raise Exception(\"Something went wrong with the query\")"
   ]
  }
 ],
 "metadata": {
  "kernelspec": {
   "display_name": "base",
   "language": "python",
   "name": "python3"
  },
  "language_info": {
   "codemirror_mode": {
    "name": "ipython",
    "version": 3
   },
   "file_extension": ".py",
   "mimetype": "text/x-python",
   "name": "python",
   "nbconvert_exporter": "python",
   "pygments_lexer": "ipython3",
   "version": "3.11.5"
  },
  "orig_nbformat": 4
 },
 "nbformat": 4,
 "nbformat_minor": 2
}
